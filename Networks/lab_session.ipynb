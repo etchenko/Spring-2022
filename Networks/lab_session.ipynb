{
 "cells": [
  {
   "cell_type": "code",
   "execution_count": 1,
   "id": "ae6fd3ee",
   "metadata": {},
   "outputs": [],
   "source": [
    "import networkx\n",
    "import matplotlib.pyplot as plt"
   ]
  },
  {
   "cell_type": "code",
   "execution_count": 2,
   "id": "29269a13",
   "metadata": {},
   "outputs": [],
   "source": [
    "graph = networkx.read_edgelist('../lab_03/word_association_graph_DSF.txt', \n",
    "                               create_using=networkx.DiGraph(), \n",
    "                               nodetype=str, data=[('weight', float),])"
   ]
  },
  {
   "cell_type": "code",
   "execution_count": 3,
   "id": "f1210e89",
   "metadata": {},
   "outputs": [],
   "source": [
    "out_degrees = {}        \n",
    "for node in graph.nodes():\n",
    "    out_degrees[node] = 0\n",
    "        \n",
    "for node_a, node_b in graph.edges():\n",
    "    out_degrees[node_a] += 1"
   ]
  },
  {
   "cell_type": "code",
   "execution_count": 4,
   "id": "111397a0",
   "metadata": {},
   "outputs": [],
   "source": [
    "in_degrees = {}        \n",
    "for node in graph.nodes():\n",
    "    in_degrees[node] = 0\n",
    "        \n",
    "for node_a, node_b in graph.edges():\n",
    "    in_degrees[node_b] += 1"
   ]
  },
  {
   "cell_type": "code",
   "execution_count": 5,
   "id": "0383474e",
   "metadata": {},
   "outputs": [
    {
     "data": {
      "image/png": "[encoded data removed]",
      "text/plain": [
       "<Figure size 432x288 with 1 Axes>"
      ]
     },
     "metadata": {
      "needs_background": "light"
     },
     "output_type": "display_data"
    }
   ],
   "source": [
    "_ = plt.hist(out_degrees.values(), bins=35)"
   ]
  },
  {
   "cell_type": "code",
   "execution_count": 6,
   "id": "bb26b7bc",
   "metadata": {},
   "outputs": [
    {
     "data": {
      "image/png": "[encoded data removed]",
      "text/plain": [
       "<Figure size 432x288 with 1 Axes>"
      ]
     },
     "metadata": {
      "needs_background": "light"
     },
     "output_type": "display_data"
    }
   ],
   "source": [
    "_ = plt.hist(in_degrees.values(), bins=35)"
   ]
  },
  {
   "cell_type": "code",
   "execution_count": 7,
   "id": "50dc2a59",
   "metadata": {},
   "outputs": [
    {
     "name": "stdout",
     "output_type": "stream",
     "text": [
      "Using matplotlib backend: Qt5Agg\n"
     ]
    }
   ],
   "source": [
    "%matplotlib"
   ]
  },
  {
   "cell_type": "code",
   "execution_count": 8,
   "id": "ef284ac0",
   "metadata": {},
   "outputs": [],
   "source": [
    "_ = plt.hist(in_degrees.values(), bins=35)"
   ]
  },
  {
   "cell_type": "code",
   "execution_count": 9,
   "id": "a70f2782",
   "metadata": {},
   "outputs": [],
   "source": [
    "%matplotlib inline"
   ]
  },
  {
   "cell_type": "code",
   "execution_count": 10,
   "id": "c33f1890",
   "metadata": {},
   "outputs": [
    {
     "data": {
      "image/png": "[encoded data removed]",
      "text/plain": [
       "<Figure size 432x288 with 1 Axes>"
      ]
     },
     "metadata": {
      "needs_background": "light"
     },
     "output_type": "display_data"
    }
   ],
   "source": [
    "_ = plt.hist(in_degrees.values(), bins=35, log=True)"
   ]
  },
  {
   "cell_type": "code",
   "execution_count": 11,
   "id": "49d81f53",
   "metadata": {},
   "outputs": [
    {
     "data": {
      "image/png": "[encoded data removed]",
      "text/plain": [
       "<Figure size 432x288 with 1 Axes>"
      ]
     },
     "metadata": {
      "needs_background": "light"
     },
     "output_type": "display_data"
    }
   ],
   "source": [
    "_ = plt.hist(out_degrees.values(), bins=35, log=True)"
   ]
  },
  {
   "cell_type": "code",
   "execution_count": 12,
   "id": "9086967e",
   "metadata": {},
   "outputs": [
    {
     "data": {
      "image/png": "[encoded data removed]",
      "text/plain": [
       "<Figure size 432x288 with 1 Axes>"
      ]
     },
     "metadata": {
      "needs_background": "light"
     },
     "output_type": "display_data"
    }
   ],
   "source": [
    "plt.xscale('log')\n",
    "_ = plt.hist(in_degrees.values(), bins=35, log=True)"
   ]
  },
  {
   "cell_type": "code",
   "execution_count": 13,
   "id": "1141271a",
   "metadata": {},
   "outputs": [
    {
     "data": {
      "image/png": "[encoded data removed]",
      "text/plain": [
       "<Figure size 432x288 with 1 Axes>"
      ]
     },
     "metadata": {
      "needs_background": "light"
     },
     "output_type": "display_data"
    }
   ],
   "source": [
    "plt.xscale('log')\n",
    "_ = plt.hist(in_degrees.values(), bins=100, log=True)"
   ]
  },
  {
   "cell_type": "code",
   "execution_count": 14,
   "id": "41888968",
   "metadata": {},
   "outputs": [
    {
     "data": {
      "text/plain": [
       "34"
      ]
     },
     "execution_count": 14,
     "metadata": {},
     "output_type": "execute_result"
    }
   ],
   "source": [
    "len(set((out_degrees.values())))"
   ]
  },
  {
   "cell_type": "code",
   "execution_count": 15,
   "id": "30c6b93a",
   "metadata": {},
   "outputs": [
    {
     "data": {
      "text/plain": [
       "324"
      ]
     },
     "execution_count": 15,
     "metadata": {},
     "output_type": "execute_result"
    }
   ],
   "source": [
    "max(in_degrees.values())"
   ]
  },
  {
   "cell_type": "code",
   "execution_count": 16,
   "id": "6da59ebd",
   "metadata": {},
   "outputs": [
    {
     "data": {
      "text/plain": [
       "6.798323285606632"
      ]
     },
     "execution_count": 16,
     "metadata": {},
     "output_type": "execute_result"
    }
   ],
   "source": [
    "sum(in_degrees.values()) / len(in_degrees.values())"
   ]
  },
  {
   "cell_type": "code",
   "execution_count": null,
   "id": "120f411a",
   "metadata": {},
   "outputs": [],
   "source": []
  },
  {
   "cell_type": "code",
   "execution_count": 17,
   "id": "871bb4b1",
   "metadata": {},
   "outputs": [
    {
     "data": {
      "image/png": "[encoded data removed]",
      "text/plain": [
       "<Figure size 432x288 with 1 Axes>"
      ]
     },
     "metadata": {
      "needs_background": "light"
     },
     "output_type": "display_data"
    }
   ],
   "source": [
    "plt.xscale('log')\n",
    "_ = plt.hist(in_degrees.values(), bins=325, log=True)"
   ]
  },
  {
   "cell_type": "code",
   "execution_count": 18,
   "id": "b2bb3e3b",
   "metadata": {},
   "outputs": [],
   "source": [
    "import powerlaw"
   ]
  },
  {
   "cell_type": "code",
   "execution_count": 19,
   "id": "db38024b",
   "metadata": {},
   "outputs": [
    {
     "name": "stdout",
     "output_type": "stream",
     "text": [
      "Requirement already satisfied: powerlaw in /home/demo/anaconda3/lib/python3.8/site-packages (1.5)\r\n",
      "Requirement already satisfied: matplotlib in /home/demo/anaconda3/lib/python3.8/site-packages (from powerlaw) (3.3.4)\r\n",
      "Requirement already satisfied: scipy in /home/demo/anaconda3/lib/python3.8/site-packages (from powerlaw) (1.6.2)\r\n",
      "Requirement already satisfied: numpy in /home/demo/anaconda3/lib/python3.8/site-packages (from powerlaw) (1.20.1)\r\n",
      "Requirement already satisfied: mpmath in /home/demo/anaconda3/lib/python3.8/site-packages (from powerlaw) (1.2.1)\r\n",
      "Requirement already satisfied: pillow>=6.2.0 in /home/demo/anaconda3/lib/python3.8/site-packages (from matplotlib->powerlaw) (8.2.0)\r\n",
      "Requirement already satisfied: kiwisolver>=1.0.1 in /home/demo/anaconda3/lib/python3.8/site-packages (from matplotlib->powerlaw) (1.3.1)\r\n",
      "Requirement already satisfied: python-dateutil>=2.1 in /home/demo/anaconda3/lib/python3.8/site-packages (from matplotlib->powerlaw) (2.8.1)\r\n",
      "Requirement already satisfied: cycler>=0.10 in /home/demo/anaconda3/lib/python3.8/site-packages (from matplotlib->powerlaw) (0.10.0)\r\n",
      "Requirement already satisfied: pyparsing!=2.0.4,!=2.1.2,!=2.1.6,>=2.0.3 in /home/demo/anaconda3/lib/python3.8/site-packages (from matplotlib->powerlaw) (2.4.7)\r\n",
      "Requirement already satisfied: six in /home/demo/anaconda3/lib/python3.8/site-packages (from cycler>=0.10->matplotlib->powerlaw) (1.15.0)\r\n"
     ]
    }
   ],
   "source": [
    "# to install the \"powerlaw\" module, you can run in a jupyter notebook: \"!pip install powerlaw\""
   ]
  },
  {
   "cell_type": "code",
   "execution_count": 20,
   "id": "ce45b7c8",
   "metadata": {},
   "outputs": [
    {
     "name": "stdout",
     "output_type": "stream",
     "text": [
      "Calculating best minimal value for power law fit\n",
      "xmin progress: 99%\r"
     ]
    },
    {
     "name": "stderr",
     "output_type": "stream",
     "text": [
      "Values less than or equal to 0 in data. Throwing out 0 or negative values\n"
     ]
    }
   ],
   "source": [
    "fit = powerlaw.Fit(list(in_degrees.values()))\n"
   ]
  },
  {
   "cell_type": "code",
   "execution_count": 21,
   "id": "9033782a",
   "metadata": {},
   "outputs": [
    {
     "data": {
      "text/plain": [
       "<powerlaw.Fit at 0x7f7d1df630a0>"
      ]
     },
     "execution_count": 21,
     "metadata": {},
     "output_type": "execute_result"
    }
   ],
   "source": [
    "fit"
   ]
  },
  {
   "cell_type": "code",
   "execution_count": 22,
   "id": "3ceb6fc7",
   "metadata": {},
   "outputs": [
    {
     "data": {
      "text/plain": [
       "2.9852246312570587"
      ]
     },
     "execution_count": 22,
     "metadata": {},
     "output_type": "execute_result"
    }
   ],
   "source": [
    "fit.power_law.alpha"
   ]
  },
  {
   "cell_type": "code",
   "execution_count": 23,
   "id": "0fff5140",
   "metadata": {},
   "outputs": [],
   "source": [
    "R, p = fit.distribution_compare('power_law', 'exponential', normalized_ratio=True)"
   ]
  },
  {
   "cell_type": "code",
   "execution_count": 24,
   "id": "029e45e5",
   "metadata": {},
   "outputs": [
    {
     "data": {
      "text/plain": [
       "(0.773738003221026, 0.43908574152893753)"
      ]
     },
     "execution_count": 24,
     "metadata": {},
     "output_type": "execute_result"
    }
   ],
   "source": [
    "R, p"
   ]
  },
  {
   "cell_type": "markdown",
   "id": "cf7fd946",
   "metadata": {},
   "source": [
    "# Ring & shortcuts network"
   ]
  },
  {
   "cell_type": "markdown",
   "id": "00bd8c9b",
   "metadata": {},
   "source": [
    "\n",
    "Given a ring network of N nodes (first & second neighbor connections), add N/2 \"shortcut edges\" at random.\n",
    "What is the average clustering coefficient as N goes to infinity?\n"
   ]
  },
  {
   "cell_type": "code",
   "execution_count": 25,
   "id": "f1d5f4f2",
   "metadata": {},
   "outputs": [],
   "source": [
    "from homework import ring_network"
   ]
  },
  {
   "cell_type": "code",
   "execution_count": 26,
   "id": "f223197c",
   "metadata": {},
   "outputs": [
    {
     "data": {
      "image/png": "[encoded data removed]",
      "text/plain": [
       "<Figure size 432x288 with 1 Axes>"
      ]
     },
     "metadata": {},
     "output_type": "display_data"
    }
   ],
   "source": [
    "networkx.draw(ring_network(10))"
   ]
  },
  {
   "cell_type": "code",
   "execution_count": 27,
   "id": "6206f8b4",
   "metadata": {},
   "outputs": [
    {
     "data": {
      "text/plain": [
       "0.5"
      ]
     },
     "execution_count": 27,
     "metadata": {},
     "output_type": "execute_result"
    }
   ],
   "source": [
    "networkx.average_clustering(ring_network(10))"
   ]
  },
  {
   "cell_type": "code",
   "execution_count": 28,
   "id": "b01f6a8e",
   "metadata": {},
   "outputs": [],
   "source": [
    "import random"
   ]
  },
  {
   "cell_type": "code",
   "execution_count": 29,
   "id": "4ac08ccb",
   "metadata": {},
   "outputs": [],
   "source": [
    "random.choice?"
   ]
  },
  {
   "cell_type": "code",
   "execution_count": 38,
   "id": "b8a5eba1",
   "metadata": {},
   "outputs": [],
   "source": [
    "def add_shortcuts(g):\n",
    "    nodes = list(g.nodes())\n",
    "    for i in range(int(g.number_of_nodes()/2)):\n",
    "        node_a = random.choice(nodes)\n",
    "        node_b = random.choice(nodes)\n",
    "        g.add_edge(node_a, node_b)\n",
    "    return g"
   ]
  },
  {
   "cell_type": "code",
   "execution_count": 39,
   "id": "b5c592b5",
   "metadata": {},
   "outputs": [
    {
     "data": {
      "text/plain": [
       "0.4666666666666666"
      ]
     },
     "execution_count": 39,
     "metadata": {},
     "output_type": "execute_result"
    }
   ],
   "source": [
    "networkx.average_clustering(add_shortcuts(ring_network(10)))"
   ]
  },
  {
   "cell_type": "code",
   "execution_count": 32,
   "id": "5bdd9535",
   "metadata": {},
   "outputs": [],
   "source": [
    "g = ring_network(10)"
   ]
  },
  {
   "cell_type": "code",
   "execution_count": 35,
   "id": "aa0cda08",
   "metadata": {},
   "outputs": [
    {
     "data": {
      "text/plain": [
       "3"
      ]
     },
     "execution_count": 35,
     "metadata": {},
     "output_type": "execute_result"
    }
   ],
   "source": [
    "random.choice(list(g.nodes()))"
   ]
  },
  {
   "cell_type": "code",
   "execution_count": 36,
   "id": "765d14e4",
   "metadata": {},
   "outputs": [
    {
     "data": {
      "text/plain": [
       "{}"
      ]
     },
     "execution_count": 36,
     "metadata": {},
     "output_type": "execute_result"
    }
   ],
   "source": [
    "random.choice(g.nodes())"
   ]
  },
  {
   "cell_type": "code",
   "execution_count": 37,
   "id": "5408d685",
   "metadata": {},
   "outputs": [
    {
     "data": {
      "text/plain": [
       "NodeView((0, 1, 2, 3, 4, 5, 6, 7, 8, 9))"
      ]
     },
     "execution_count": 37,
     "metadata": {},
     "output_type": "execute_result"
    }
   ],
   "source": [
    "g.nodes()"
   ]
  },
  {
   "cell_type": "code",
   "execution_count": 40,
   "id": "77b068d3",
   "metadata": {},
   "outputs": [],
   "source": [
    "g.add_edge(1,1)"
   ]
  },
  {
   "cell_type": "code",
   "execution_count": 46,
   "id": "53bbd9de",
   "metadata": {},
   "outputs": [],
   "source": [
    "def add_shortcuts2(g):\n",
    "    nodes = list(g.nodes())\n",
    "    for i in range(int(g.number_of_nodes()/2)):\n",
    "        node_a = random.choice(nodes)\n",
    "        remaining_nodes = list(nodes)\n",
    "        remaining_nodes.remove(node_a)\n",
    "        node_b = random.choice(remaining_nodes)\n",
    "        g.add_edge(node_a, node_b)\n",
    "    return g"
   ]
  },
  {
   "cell_type": "code",
   "execution_count": 47,
   "id": "ad428fa5",
   "metadata": {},
   "outputs": [
    {
     "name": "stdout",
     "output_type": "stream",
     "text": [
      "10 22\n",
      "10 24\n",
      "10 24\n",
      "10 24\n",
      "10 22\n",
      "10 22\n",
      "10 23\n",
      "10 22\n",
      "10 25\n",
      "10 22\n"
     ]
    }
   ],
   "source": [
    "for i in range(10):\n",
    "    g = add_shortcuts(ring_network(10))\n",
    "    print(g.number_of_nodes(), g.number_of_edges())"
   ]
  },
  {
   "cell_type": "code",
   "execution_count": 48,
   "id": "9b1bc622",
   "metadata": {},
   "outputs": [
    {
     "data": {
      "text/plain": [
       "True"
      ]
     },
     "execution_count": 48,
     "metadata": {},
     "output_type": "execute_result"
    }
   ],
   "source": [
    "g.has_edge(0,1)"
   ]
  },
  {
   "cell_type": "code",
   "execution_count": 49,
   "id": "15913add",
   "metadata": {},
   "outputs": [],
   "source": [
    "g.add_edge(0,1)"
   ]
  },
  {
   "cell_type": "code",
   "execution_count": 50,
   "id": "4276aa9e",
   "metadata": {},
   "outputs": [
    {
     "data": {
      "text/plain": [
       "<networkx.classes.graph.Graph at 0x7f7d1e20c7c0>"
      ]
     },
     "execution_count": 50,
     "metadata": {},
     "output_type": "execute_result"
    }
   ],
   "source": [
    "g"
   ]
  },
  {
   "cell_type": "code",
   "execution_count": null,
   "id": "4cd9f177",
   "metadata": {},
   "outputs": [],
   "source": []
  },
  {
   "cell_type": "code",
   "execution_count": 42,
   "id": "a019050b",
   "metadata": {},
   "outputs": [
    {
     "name": "stdout",
     "output_type": "stream",
     "text": [
      "10 20\n"
     ]
    }
   ],
   "source": [
    "g = ring_network(10)\n",
    "print(g.number_of_nodes(), g.number_of_edges())"
   ]
  },
  {
   "cell_type": "code",
   "execution_count": 51,
   "id": "e62e58cc",
   "metadata": {},
   "outputs": [],
   "source": [
    "def add_shortcuts3(g):\n",
    "    nodes = list(g.nodes())\n",
    "    while g.number_of_edges() < (g.number_of_nodes()*2.5):\n",
    "        node_a = random.choice(nodes)\n",
    "        remaining_nodes = list(nodes)\n",
    "        remaining_nodes.remove(node_a)\n",
    "        node_b = random.choice(remaining_nodes)\n",
    "        g.add_edge(node_a, node_b)\n",
    "    return g"
   ]
  },
  {
   "cell_type": "code",
   "execution_count": 52,
   "id": "04ee3e13",
   "metadata": {},
   "outputs": [
    {
     "name": "stdout",
     "output_type": "stream",
     "text": [
      "10 25\n",
      "10 25\n",
      "10 25\n",
      "10 25\n",
      "10 25\n",
      "10 25\n",
      "10 25\n",
      "10 25\n",
      "10 25\n",
      "10 25\n"
     ]
    }
   ],
   "source": [
    "for i in range(10):\n",
    "    g = add_shortcuts3(ring_network(10))\n",
    "    print(g.number_of_nodes(), g.number_of_edges())"
   ]
  },
  {
   "cell_type": "code",
   "execution_count": 54,
   "id": "a75089f0",
   "metadata": {},
   "outputs": [],
   "source": [
    "def add_shortcuts4(g):\n",
    "    nodes = list(g.nodes())\n",
    "    while g.number_of_edges() < (g.number_of_nodes()*2.5):\n",
    "        node_a = random.choice(nodes)\n",
    "        node_b = random.choice(nodes)\n",
    "        if (node_a != node_b) and not g.has_edge(node_a, node_b):\n",
    "            g.add_edge(node_a, node_b)\n",
    "    return g"
   ]
  },
  {
   "cell_type": "code",
   "execution_count": 55,
   "id": "853850dc",
   "metadata": {},
   "outputs": [
    {
     "name": "stdout",
     "output_type": "stream",
     "text": [
      "10 25\n",
      "10 25\n",
      "10 25\n",
      "10 25\n",
      "10 25\n",
      "10 25\n",
      "10 25\n",
      "10 25\n",
      "10 25\n",
      "10 25\n"
     ]
    }
   ],
   "source": [
    "for i in range(10):\n",
    "    g = add_shortcuts4(ring_network(10))\n",
    "    print(g.number_of_nodes(), g.number_of_edges())"
   ]
  },
  {
   "cell_type": "code",
   "execution_count": 56,
   "id": "c8c5feca",
   "metadata": {},
   "outputs": [
    {
     "data": {
      "text/plain": [
       "0.5166666666666667"
      ]
     },
     "execution_count": 56,
     "metadata": {},
     "output_type": "execute_result"
    }
   ],
   "source": [
    "networkx.average_clustering(add_shortcuts4(ring_network(10)))"
   ]
  },
  {
   "cell_type": "code",
   "execution_count": 57,
   "id": "8871dbda",
   "metadata": {},
   "outputs": [
    {
     "data": {
      "text/plain": [
       "0.35614285714285715"
      ]
     },
     "execution_count": 57,
     "metadata": {},
     "output_type": "execute_result"
    }
   ],
   "source": [
    "networkx.average_clustering(add_shortcuts4(ring_network(100)))"
   ]
  },
  {
   "cell_type": "code",
   "execution_count": 58,
   "id": "df5496f0",
   "metadata": {},
   "outputs": [
    {
     "data": {
      "text/plain": [
       "0.3423285714285729"
      ]
     },
     "execution_count": 58,
     "metadata": {},
     "output_type": "execute_result"
    }
   ],
   "source": [
    "networkx.average_clustering(add_shortcuts4(ring_network(1000)))"
   ]
  },
  {
   "cell_type": "code",
   "execution_count": 59,
   "id": "cbb50841",
   "metadata": {},
   "outputs": [
    {
     "data": {
      "text/plain": [
       "0.34147333333334673"
      ]
     },
     "execution_count": 59,
     "metadata": {},
     "output_type": "execute_result"
    }
   ],
   "source": [
    "networkx.average_clustering(add_shortcuts4(ring_network(10000)))"
   ]
  },
  {
   "cell_type": "code",
   "execution_count": 60,
   "id": "4eab9484",
   "metadata": {},
   "outputs": [
    {
     "ename": "KeyboardInterrupt",
     "evalue": "",
     "output_type": "error",
     "traceback": [
      "\u001b[0;31m---------------------------------------------------------------------------\u001b[0m",
      "\u001b[0;31mKeyboardInterrupt\u001b[0m                         Traceback (most recent call last)",
      "\u001b[0;32m<ipython-input-60-e0ca975125df>\u001b[0m in \u001b[0;36m<module>\u001b[0;34m\u001b[0m\n\u001b[0;32m----> 1\u001b[0;31m \u001b[0mnetworkx\u001b[0m\u001b[0;34m.\u001b[0m\u001b[0maverage_clustering\u001b[0m\u001b[0;34m(\u001b[0m\u001b[0madd_shortcuts4\u001b[0m\u001b[0;34m(\u001b[0m\u001b[0mring_network\u001b[0m\u001b[0;34m(\u001b[0m\u001b[0;36m100000\u001b[0m\u001b[0;34m)\u001b[0m\u001b[0;34m)\u001b[0m\u001b[0;34m)\u001b[0m\u001b[0;34m\u001b[0m\u001b[0;34m\u001b[0m\u001b[0m\n\u001b[0m",
      "\u001b[0;32m<ipython-input-54-104996803168>\u001b[0m in \u001b[0;36madd_shortcuts4\u001b[0;34m(g)\u001b[0m\n\u001b[1;32m      1\u001b[0m \u001b[0;32mdef\u001b[0m \u001b[0madd_shortcuts4\u001b[0m\u001b[0;34m(\u001b[0m\u001b[0mg\u001b[0m\u001b[0;34m)\u001b[0m\u001b[0;34m:\u001b[0m\u001b[0;34m\u001b[0m\u001b[0;34m\u001b[0m\u001b[0m\n\u001b[1;32m      2\u001b[0m     \u001b[0mnodes\u001b[0m \u001b[0;34m=\u001b[0m \u001b[0mlist\u001b[0m\u001b[0;34m(\u001b[0m\u001b[0mg\u001b[0m\u001b[0;34m.\u001b[0m\u001b[0mnodes\u001b[0m\u001b[0;34m(\u001b[0m\u001b[0;34m)\u001b[0m\u001b[0;34m)\u001b[0m\u001b[0;34m\u001b[0m\u001b[0;34m\u001b[0m\u001b[0m\n\u001b[0;32m----> 3\u001b[0;31m     \u001b[0;32mwhile\u001b[0m \u001b[0mg\u001b[0m\u001b[0;34m.\u001b[0m\u001b[0mnumber_of_edges\u001b[0m\u001b[0;34m(\u001b[0m\u001b[0;34m)\u001b[0m \u001b[0;34m<\u001b[0m \u001b[0;34m(\u001b[0m\u001b[0mg\u001b[0m\u001b[0;34m.\u001b[0m\u001b[0mnumber_of_nodes\u001b[0m\u001b[0;34m(\u001b[0m\u001b[0;34m)\u001b[0m\u001b[0;34m*\u001b[0m\u001b[0;36m2.5\u001b[0m\u001b[0;34m)\u001b[0m\u001b[0;34m:\u001b[0m\u001b[0;34m\u001b[0m\u001b[0;34m\u001b[0m\u001b[0m\n\u001b[0m\u001b[1;32m      4\u001b[0m         \u001b[0mnode_a\u001b[0m \u001b[0;34m=\u001b[0m \u001b[0mrandom\u001b[0m\u001b[0;34m.\u001b[0m\u001b[0mchoice\u001b[0m\u001b[0;34m(\u001b[0m\u001b[0mnodes\u001b[0m\u001b[0;34m)\u001b[0m\u001b[0;34m\u001b[0m\u001b[0;34m\u001b[0m\u001b[0m\n\u001b[1;32m      5\u001b[0m         \u001b[0mnode_b\u001b[0m \u001b[0;34m=\u001b[0m \u001b[0mrandom\u001b[0m\u001b[0;34m.\u001b[0m\u001b[0mchoice\u001b[0m\u001b[0;34m(\u001b[0m\u001b[0mnodes\u001b[0m\u001b[0;34m)\u001b[0m\u001b[0;34m\u001b[0m\u001b[0;34m\u001b[0m\u001b[0m\n",
      "\u001b[0;32m~/anaconda3/lib/python3.8/site-packages/networkx/classes/graph.py\u001b[0m in \u001b[0;36mnumber_of_edges\u001b[0;34m(self, u, v)\u001b[0m\n\u001b[1;32m   1841\u001b[0m         \"\"\"\n\u001b[1;32m   1842\u001b[0m         \u001b[0;32mif\u001b[0m \u001b[0mu\u001b[0m \u001b[0;32mis\u001b[0m \u001b[0;32mNone\u001b[0m\u001b[0;34m:\u001b[0m\u001b[0;34m\u001b[0m\u001b[0;34m\u001b[0m\u001b[0m\n\u001b[0;32m-> 1843\u001b[0;31m             \u001b[0;32mreturn\u001b[0m \u001b[0mint\u001b[0m\u001b[0;34m(\u001b[0m\u001b[0mself\u001b[0m\u001b[0;34m.\u001b[0m\u001b[0msize\u001b[0m\u001b[0;34m(\u001b[0m\u001b[0;34m)\u001b[0m\u001b[0;34m)\u001b[0m\u001b[0;34m\u001b[0m\u001b[0;34m\u001b[0m\u001b[0m\n\u001b[0m\u001b[1;32m   1844\u001b[0m         \u001b[0;32mif\u001b[0m \u001b[0mv\u001b[0m \u001b[0;32min\u001b[0m \u001b[0mself\u001b[0m\u001b[0;34m.\u001b[0m\u001b[0m_adj\u001b[0m\u001b[0;34m[\u001b[0m\u001b[0mu\u001b[0m\u001b[0;34m]\u001b[0m\u001b[0;34m:\u001b[0m\u001b[0;34m\u001b[0m\u001b[0;34m\u001b[0m\u001b[0m\n\u001b[1;32m   1845\u001b[0m             \u001b[0;32mreturn\u001b[0m \u001b[0;36m1\u001b[0m\u001b[0;34m\u001b[0m\u001b[0;34m\u001b[0m\u001b[0m\n",
      "\u001b[0;32m~/anaconda3/lib/python3.8/site-packages/networkx/classes/graph.py\u001b[0m in \u001b[0;36msize\u001b[0;34m(self, weight)\u001b[0m\n\u001b[1;32m   1787\u001b[0m         \u001b[0;36m6.0\u001b[0m\u001b[0;34m\u001b[0m\u001b[0;34m\u001b[0m\u001b[0m\n\u001b[1;32m   1788\u001b[0m         \"\"\"\n\u001b[0;32m-> 1789\u001b[0;31m         \u001b[0ms\u001b[0m \u001b[0;34m=\u001b[0m \u001b[0msum\u001b[0m\u001b[0;34m(\u001b[0m\u001b[0md\u001b[0m \u001b[0;32mfor\u001b[0m \u001b[0mv\u001b[0m\u001b[0;34m,\u001b[0m \u001b[0md\u001b[0m \u001b[0;32min\u001b[0m \u001b[0mself\u001b[0m\u001b[0;34m.\u001b[0m\u001b[0mdegree\u001b[0m\u001b[0;34m(\u001b[0m\u001b[0mweight\u001b[0m\u001b[0;34m=\u001b[0m\u001b[0mweight\u001b[0m\u001b[0;34m)\u001b[0m\u001b[0;34m)\u001b[0m\u001b[0;34m\u001b[0m\u001b[0;34m\u001b[0m\u001b[0m\n\u001b[0m\u001b[1;32m   1790\u001b[0m         \u001b[0;31m# If `weight` is None, the sum of the degrees is guaranteed to be\u001b[0m\u001b[0;34m\u001b[0m\u001b[0;34m\u001b[0m\u001b[0;34m\u001b[0m\u001b[0m\n\u001b[1;32m   1791\u001b[0m         \u001b[0;31m# even, so we can perform integer division and hence return an\u001b[0m\u001b[0;34m\u001b[0m\u001b[0;34m\u001b[0m\u001b[0;34m\u001b[0m\u001b[0m\n",
      "\u001b[0;32m~/anaconda3/lib/python3.8/site-packages/networkx/classes/graph.py\u001b[0m in \u001b[0;36m<genexpr>\u001b[0;34m(.0)\u001b[0m\n\u001b[1;32m   1787\u001b[0m         \u001b[0;36m6.0\u001b[0m\u001b[0;34m\u001b[0m\u001b[0;34m\u001b[0m\u001b[0m\n\u001b[1;32m   1788\u001b[0m         \"\"\"\n\u001b[0;32m-> 1789\u001b[0;31m         \u001b[0ms\u001b[0m \u001b[0;34m=\u001b[0m \u001b[0msum\u001b[0m\u001b[0;34m(\u001b[0m\u001b[0md\u001b[0m \u001b[0;32mfor\u001b[0m \u001b[0mv\u001b[0m\u001b[0;34m,\u001b[0m \u001b[0md\u001b[0m \u001b[0;32min\u001b[0m \u001b[0mself\u001b[0m\u001b[0;34m.\u001b[0m\u001b[0mdegree\u001b[0m\u001b[0;34m(\u001b[0m\u001b[0mweight\u001b[0m\u001b[0;34m=\u001b[0m\u001b[0mweight\u001b[0m\u001b[0;34m)\u001b[0m\u001b[0;34m)\u001b[0m\u001b[0;34m\u001b[0m\u001b[0;34m\u001b[0m\u001b[0m\n\u001b[0m\u001b[1;32m   1790\u001b[0m         \u001b[0;31m# If `weight` is None, the sum of the degrees is guaranteed to be\u001b[0m\u001b[0;34m\u001b[0m\u001b[0;34m\u001b[0m\u001b[0;34m\u001b[0m\u001b[0m\n\u001b[1;32m   1791\u001b[0m         \u001b[0;31m# even, so we can perform integer division and hence return an\u001b[0m\u001b[0;34m\u001b[0m\u001b[0;34m\u001b[0m\u001b[0;34m\u001b[0m\u001b[0m\n",
      "\u001b[0;32m~/anaconda3/lib/python3.8/site-packages/networkx/classes/reportviews.py\u001b[0m in \u001b[0;36m__iter__\u001b[0;34m(self)\u001b[0m\n\u001b[1;32m    456\u001b[0m         \u001b[0;32mif\u001b[0m \u001b[0mweight\u001b[0m \u001b[0;32mis\u001b[0m \u001b[0;32mNone\u001b[0m\u001b[0;34m:\u001b[0m\u001b[0;34m\u001b[0m\u001b[0;34m\u001b[0m\u001b[0m\n\u001b[1;32m    457\u001b[0m             \u001b[0;32mfor\u001b[0m \u001b[0mn\u001b[0m \u001b[0;32min\u001b[0m \u001b[0mself\u001b[0m\u001b[0;34m.\u001b[0m\u001b[0m_nodes\u001b[0m\u001b[0;34m:\u001b[0m\u001b[0;34m\u001b[0m\u001b[0;34m\u001b[0m\u001b[0m\n\u001b[0;32m--> 458\u001b[0;31m                 \u001b[0mnbrs\u001b[0m \u001b[0;34m=\u001b[0m \u001b[0mself\u001b[0m\u001b[0;34m.\u001b[0m\u001b[0m_succ\u001b[0m\u001b[0;34m[\u001b[0m\u001b[0mn\u001b[0m\u001b[0;34m]\u001b[0m\u001b[0;34m\u001b[0m\u001b[0;34m\u001b[0m\u001b[0m\n\u001b[0m\u001b[1;32m    459\u001b[0m                 \u001b[0;32myield\u001b[0m \u001b[0;34m(\u001b[0m\u001b[0mn\u001b[0m\u001b[0;34m,\u001b[0m \u001b[0mlen\u001b[0m\u001b[0;34m(\u001b[0m\u001b[0mnbrs\u001b[0m\u001b[0;34m)\u001b[0m \u001b[0;34m+\u001b[0m \u001b[0;34m(\u001b[0m\u001b[0mn\u001b[0m \u001b[0;32min\u001b[0m \u001b[0mnbrs\u001b[0m\u001b[0;34m)\u001b[0m\u001b[0;34m)\u001b[0m\u001b[0;34m\u001b[0m\u001b[0;34m\u001b[0m\u001b[0m\n\u001b[1;32m    460\u001b[0m         \u001b[0;32melse\u001b[0m\u001b[0;34m:\u001b[0m\u001b[0;34m\u001b[0m\u001b[0;34m\u001b[0m\u001b[0m\n",
      "\u001b[0;31mKeyboardInterrupt\u001b[0m: "
     ]
    }
   ],
   "source": [
    "networkx.average_clustering(add_shortcuts4(ring_network(100000)))"
   ]
  },
  {
   "cell_type": "code",
   "execution_count": null,
   "id": "64e88838",
   "metadata": {},
   "outputs": [],
   "source": [
    "networkx.average_clustering(add_shortcuts4(ring_network(infinity)))"
   ]
  },
  {
   "cell_type": "code",
   "execution_count": 64,
   "id": "6a3f93e9",
   "metadata": {},
   "outputs": [],
   "source": [
    "N_list = [10, 20, 50, 100, 200, 500, 1000, 2000]"
   ]
  },
  {
   "cell_type": "code",
   "execution_count": 65,
   "id": "7cb29f3b",
   "metadata": {},
   "outputs": [],
   "source": [
    "values = [networkx.average_clustering(add_shortcuts4(ring_network(N))) for N in N_list]"
   ]
  },
  {
   "cell_type": "code",
   "execution_count": 66,
   "id": "d536b306",
   "metadata": {},
   "outputs": [
    {
     "data": {
      "text/plain": [
       "[<matplotlib.lines.Line2D at 0x7f7d1e2c68e0>]"
      ]
     },
     "execution_count": 66,
     "metadata": {},
     "output_type": "execute_result"
    },
    {
     "data": {
      "image/png": "[encoded data removed]",
      "text/plain": [
       "<Figure size 432x288 with 1 Axes>"
      ]
     },
     "metadata": {
      "needs_background": "light"
     },
     "output_type": "display_data"
    }
   ],
   "source": [
    "plt.plot(N_list, values)"
   ]
  },
  {
   "cell_type": "markdown",
   "id": "550b7302",
   "metadata": {},
   "source": [
    "Our computational result: 0.35 +- 0.02\n",
    "\n",
    "Our theoretical result was: 0.5"
   ]
  }
 ],
 "metadata": {
  "kernelspec": {
   "display_name": "Python 3",
   "language": "python",
   "name": "python3"
  },
  "language_info": {
   "codemirror_mode": {
    "name": "ipython",
    "version": 3
   },
   "file_extension": ".py",
   "mimetype": "text/x-python",
   "name": "python",
   "nbconvert_exporter": "python",
   "pygments_lexer": "ipython3",
   "version": "3.8.8"
  }
 },
 "nbformat": 4,
 "nbformat_minor": 5
}
