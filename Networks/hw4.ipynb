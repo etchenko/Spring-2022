{
 "cells": [
  {
   "cell_type": "code",
   "execution_count": 4,
   "metadata": {},
   "outputs": [],
   "source": [
    "import random\n",
    "import networkx\n",
    "import matplotlib.pyplot as plt"
   ]
  },
  {
   "cell_type": "code",
   "execution_count": 2,
   "metadata": {},
   "outputs": [],
   "source": [
    "def ring_network(N):\n",
    "    \"\"\"\n",
    "    Create a network with first and second neighbors connected.\n",
    "    :param N: The number of nodes in the network (int)\n",
    "    :return: The ring network (networkx Graph() object)\n",
    "    \"\"\"\n",
    "    \n",
    "    # Instantiate the graph\n",
    "    graph = networkx.Graph()\n",
    "    # Add the edges to the graph\n",
    "    for i in range(0, N):\n",
    "        # Add first neighbor edges\n",
    "        graph.add_edge(i,(i+1)%N)\n",
    "        # Add second neighbor edges\n",
    "        graph.add_edge(i, (i+2)%N)\n",
    "    # Return the graph for later use\n",
    "    return graph"
   ]
  },
  {
   "cell_type": "code",
   "execution_count": 23,
   "metadata": {},
   "outputs": [],
   "source": [
    "\n",
    "def add_shortcuts(g):\n",
    "    nodes = list(g.nodes())\n",
    "    random.shuffle(nodes)\n",
    "    for i in range(0, len(nodes) - 1, 2):\n",
    "        node_a = nodes[i]\n",
    "        node_b = nodes[i + 1]\n",
    "        g.add_edge(node_a, node_b)\n",
    "    return g\n"
   ]
  },
  {
   "cell_type": "code",
   "execution_count": 24,
   "metadata": {},
   "outputs": [
    {
     "data": {
      "text/plain": [
       "[<matplotlib.lines.Line2D at 0x10f7dd3a0>]"
      ]
     },
     "execution_count": 24,
     "metadata": {},
     "output_type": "execute_result"
    },
    {
     "data": {
      "image/png": "[encoded data removed]",
      "text/plain": [
       "<Figure size 432x288 with 1 Axes>"
      ]
     },
     "metadata": {
      "needs_background": "light"
     },
     "output_type": "display_data"
    }
   ],
   "source": [
    "N_list = [10, 20, 50, 100, 200, 500, 1000, 2000]\n",
    "values = [networkx.average_clustering(add_shortcuts(ring_network(N))) for N in N_list]\n",
    "plt.plot(N_list, values)"
   ]
  },
  {
   "cell_type": "code",
   "execution_count": 25,
   "metadata": {},
   "outputs": [
    {
     "data": {
      "image/png": "[encoded data removed]",
      "text/plain": [
       "<Figure size 432x288 with 1 Axes>"
      ]
     },
     "metadata": {
      "needs_background": "light"
     },
     "output_type": "display_data"
    }
   ],
   "source": [
    "values_50 = [networkx.average_clustering(add_shortcuts(ring_network(50))) for i in range(200)]\n",
    "values_10 = [networkx.average_clustering(add_shortcuts(ring_network(10))) for i in range(200)]\n",
    "values_100 = [networkx.average_clustering(add_shortcuts(ring_network(100))) for i in range(200)]\n",
    "_ = plt.hist([values_10, values_50, values_100 ], histtype='step', bins=100)\n"
   ]
  }
 ],
 "metadata": {
  "interpreter": {
   "hash": "b0fa6594d8f4cbf19f97940f81e996739fb7646882a419484c72d19e05852a7e"
  },
  "kernelspec": {
   "display_name": "Python 3.9.9 64-bit",
   "language": "python",
   "name": "python3"
  },
  "language_info": {
   "codemirror_mode": {
    "name": "ipython",
    "version": 3
   },
   "file_extension": ".py",
   "mimetype": "text/x-python",
   "name": "python",
   "nbconvert_exporter": "python",
   "pygments_lexer": "ipython3",
   "version": "3.9.9"
  },
  "orig_nbformat": 4
 },
 "nbformat": 4,
 "nbformat_minor": 2
}
