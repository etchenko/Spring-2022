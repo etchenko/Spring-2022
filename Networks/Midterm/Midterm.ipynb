{
 "cells": [
  {
   "cell_type": "markdown",
   "metadata": {},
   "source": [
    "# Elijah Tamarchenko\n",
    "## Networks Midterm spring 2022"
   ]
  },
  {
   "cell_type": "markdown",
   "metadata": {},
   "source": [
    "### Problem 1\n",
    "Using the formula $\\frac{2L_i}{k_i(k_i-1)}$, we count 4 triangles in the neighbors of the central node, and thus the clustering coefficient would be $\\frac{4}{21} \\approx 0.19$"
   ]
  },
  {
   "cell_type": "markdown",
   "metadata": {},
   "source": [
    "### Problem 2\n",
    "\n",
    "$\\textit{ See Paper}$"
   ]
  },
  {
   "cell_type": "markdown",
   "metadata": {},
   "source": [
    "### Problem 3"
   ]
  },
  {
   "cell_type": "markdown",
   "metadata": {},
   "source": [
    "Ring: If the arrow are all facing in on direction, then the outdegree and indegree of each node should be 1 without shortcuts. When we add the 2 shortcuts, there will be 2 nodes with in degree 2 and 2 nodes with outdegree 2, and the rest will have both in and outdegree 1.\n",
    "\n",
    "Thus there will be N - 2 nodes with in and out degree 1, and 2 nodes with in and out degree 2\n",
    "\n",
    "Binary Tree: If the edges are facing downards in the tree, each node will have outdegree 2 (besides the leaves of the tree, with out degree 0), and each node will have in-degree 1 (besides the root node).\n",
    "\n",
    "Thus there will be N - 1nodes with in degree 1, and 1 node with in degree 0, and N/2 nodes with out degree 2, and N/2 nodes with out degree 0.\n"
   ]
  },
  {
   "cell_type": "markdown",
   "metadata": {},
   "source": [
    "### Problem 4\n",
    "The clustering coefficient at the hubs would decrease, since before the hubs were all connected to each other, and thus they formed lots of triangles and had a large clustering coefficient, but now all the hubs are connected to nodes with smaller degrees with a smaller chance of connected to each other, thus making the clustering coefficient small"
   ]
  },
  {
   "cell_type": "markdown",
   "metadata": {},
   "source": [
    "### Problem 5\n",
    "We know that the formula for the clustering coefficient is $C_i \\equiv \\frac{2L_i}{k_i(k_i - 1)}$ where $L_i$ is the number of triangles. We can thus fill in for $k$, and what we have left to estimate is the average number of of triangles. We can calculate the chances that the two neighbors of a node are connected to each other, which is $\\frac{10}{149}$. We know that there are $\\frac{10*9}{1}$ possible pairs of nodes, and thus our formula would be $C_i \\equiv \\frac{2*\\frac{10}{149}*\\frac{10*9}{2}}{10*9} = \\frac{10}{149} \\approx 0.067$"
   ]
  },
  {
   "cell_type": "markdown",
   "metadata": {},
   "source": [
    "### Problem 6"
   ]
  },
  {
   "cell_type": "code",
   "execution_count": 7,
   "metadata": {},
   "outputs": [
    {
     "name": "stdout",
     "output_type": "stream",
     "text": [
      "Average \"Average Clustering coefficient\": 0.06695406835247278\n"
     ]
    },
    {
     "data": {
      "image/png": "[encoded data removed]",
      "text/plain": [
       "<Figure size 432x288 with 1 Axes>"
      ]
     },
     "metadata": {
      "needs_background": "light"
     },
     "output_type": "display_data"
    }
   ],
   "source": [
    "import networkx\n",
    "import matplotlib.pyplot as plt\n",
    "import statistics\n",
    "# Number of iterations\n",
    "num = 2000\n",
    "\n",
    "deg, clust = [], []\n",
    "# Run the simulation num times\n",
    "for i in range(0, num):\n",
    "    # Create an Erdos-Renyi graph with N = 150 and k = 10\n",
    "    g = networkx.erdos_renyi_graph(150, 0.06711409395)\n",
    "    # Get the average clustering coefficient for the graph\n",
    "    clust.append(networkx.average_clustering(g))\n",
    "# Histogram plot of the average clustering coefficients\n",
    "plt.hist(clust, bins = int(num/40))\n",
    "mean = statistics.mean(clust)\n",
    "print(f'Average \"Average Clustering coefficient\": {mean}')"
   ]
  },
  {
   "cell_type": "markdown",
   "metadata": {},
   "source": [
    "As we can see, the average clustering coefficient is 0.067, and the histogram also shows that with 2000 simulations, the center falls very obviously at 0.067 with a bell curve distribution. Thus our estimate is a good estimate."
   ]
  },
  {
   "cell_type": "markdown",
   "metadata": {},
   "source": [
    "### Problem 7\n",
    "$\\textit{See Image}$"
   ]
  },
  {
   "cell_type": "markdown",
   "metadata": {},
   "source": [
    "### Problem 8"
   ]
  },
  {
   "cell_type": "code",
   "execution_count": 9,
   "metadata": {},
   "outputs": [
    {
     "name": "stdout",
     "output_type": "stream",
     "text": [
      "Words length histogram:\n"
     ]
    },
    {
     "data": {
      "image/png": "[encoded data removed]",
      "text/plain": [
       "<Figure size 432x288 with 1 Axes>"
      ]
     },
     "metadata": {
      "needs_background": "light"
     },
     "output_type": "display_data"
    }
   ],
   "source": [
    "import networkx\n",
    "import matplotlib.pyplot as plt\n",
    "graph = networkx.read_edgelist('word_association_graph_DSF.txt', \n",
    "                               create_using=networkx.DiGraph(), \n",
    "                               nodetype=str, data=[('weight', float),])\n",
    "words = [len(node) for node in list(graph.nodes)]\n",
    "plt.hist(words)\n",
    "print('Words length histogram:')"
   ]
  },
  {
   "cell_type": "markdown",
   "metadata": {},
   "source": [
    "The distribution is centered at around 5 and is skewed to the right, meaning that most words that we see are short words, with fewer long words, decreasing the longer the words becomes."
   ]
  },
  {
   "cell_type": "markdown",
   "metadata": {},
   "source": [
    "### Problem 9"
   ]
  },
  {
   "cell_type": "code",
   "execution_count": 28,
   "metadata": {},
   "outputs": [
    {
     "data": {
      "text/plain": [
       "<BarContainer object of 19 artists>"
      ]
     },
     "execution_count": 28,
     "metadata": {},
     "output_type": "execute_result"
    },
    {
     "data": {
      "image/png": "[encoded data removed]",
      "text/plain": [
       "<Figure size 432x288 with 1 Axes>"
      ]
     },
     "metadata": {
      "needs_background": "light"
     },
     "output_type": "display_data"
    }
   ],
   "source": [
    "dict = {}\n",
    "\n",
    "for word in list(graph.nodes):\n",
    "    if len(word) in dict:\n",
    "        dict[len(word)].append(graph.in_degree(word))\n",
    "    else:\n",
    "        dict[len(word)] = [graph.in_degree(word)]\n",
    "for k, v in dict.items():\n",
    "    dict[k] = statistics.mean(v)\n",
    "\n",
    "plt.bar(*zip(*dict.items()))"
   ]
  },
  {
   "cell_type": "markdown",
   "metadata": {},
   "source": [
    "We can see that the average in-degree of the words seems to be somewhat correlated with the length of the words, since ther smaller words which are more common also seem to have a higher in degree. This might mean that people are more likely to know smaller words, and thus when asked to associate a word they will come up with shorter words more often than longer ones, since they have fewer longer words in their vocabulary."
   ]
  }
 ],
 "metadata": {
  "interpreter": {
   "hash": "b0fa6594d8f4cbf19f97940f81e996739fb7646882a419484c72d19e05852a7e"
  },
  "kernelspec": {
   "display_name": "Python 3.9.9 64-bit",
   "language": "python",
   "name": "python3"
  },
  "language_info": {
   "codemirror_mode": {
    "name": "ipython",
    "version": 3
   },
   "file_extension": ".py",
   "mimetype": "text/x-python",
   "name": "python",
   "nbconvert_exporter": "python",
   "pygments_lexer": "ipython3",
   "version": "3.9.9"
  },
  "orig_nbformat": 4
 },
 "nbformat": 4,
 "nbformat_minor": 2
}
