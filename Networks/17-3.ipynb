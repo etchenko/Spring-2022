{
 "cells": [
  {
   "cell_type": "code",
   "execution_count": 1,
   "metadata": {},
   "outputs": [],
   "source": [
    "import random\n",
    "import networkx\n",
    "import matplotlib.pyplot as plt"
   ]
  },
  {
   "cell_type": "code",
   "execution_count": 2,
   "metadata": {},
   "outputs": [],
   "source": [
    "def ring_network(N):\n",
    "    \"\"\"\n",
    "    Create a network with first and second neighbors connected.\n",
    "    :param N: The number of nodes in the network (int)\n",
    "    :return: The ring network (networkx Graph() object)\n",
    "    \"\"\"\n",
    "    \n",
    "    # Instantiate the graph\n",
    "    graph = networkx.Graph()\n",
    "    # Add the edges to the graph\n",
    "    for i in range(0, N):\n",
    "        # Add first neighbor edges\n",
    "        graph.add_edge(i,(i+1)%N)\n",
    "        # Add second neighbor edges\n",
    "        graph.add_edge(i, (i+2)%N)\n",
    "    # Return the graph for later use\n",
    "    return graph"
   ]
  },
  {
   "cell_type": "code",
   "execution_count": null,
   "metadata": {},
   "outputs": [],
   "source": []
  }
 ],
 "metadata": {
  "interpreter": {
   "hash": "b0fa6594d8f4cbf19f97940f81e996739fb7646882a419484c72d19e05852a7e"
  },
  "kernelspec": {
   "display_name": "Python 3.9.9 64-bit",
   "language": "python",
   "name": "python3"
  },
  "language_info": {
   "codemirror_mode": {
    "name": "ipython",
    "version": 3
   },
   "file_extension": ".py",
   "mimetype": "text/x-python",
   "name": "python",
   "nbconvert_exporter": "python",
   "pygments_lexer": "ipython3",
   "version": "3.9.9"
  },
  "orig_nbformat": 4
 },
 "nbformat": 4,
 "nbformat_minor": 2
}
