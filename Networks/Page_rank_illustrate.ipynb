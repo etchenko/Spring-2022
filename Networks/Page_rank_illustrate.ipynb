{
 "cells": [
  {
   "cell_type": "code",
   "execution_count": 1,
   "metadata": {},
   "outputs": [],
   "source": [
    "import networkx as nx;\n",
    "import matplotlib as mp;\n",
    "import matplotlib.pyplot as plt;\n",
    "from ipywidgets import *"
   ]
  },
  {
   "cell_type": "markdown",
   "metadata": {},
   "source": [
    "We first define a small network based on a link list. For simplicity, let's make sure that all nodes have at least one out-link."
   ]
  },
  {
   "cell_type": "code",
   "execution_count": 2,
   "metadata": {},
   "outputs": [],
   "source": [
    "edge_list = [(0,1),(2,0),(0,3),(1,2),(1,4),(1,5),(5,4),(4,3),(3,1),(5,3)];\n",
    "test_graph = nx.DiGraph();\n",
    "for edge in edge_list:\n",
    "    test_graph.add_edge(edge[0],edge[1]);"
   ]
  },
  {
   "cell_type": "markdown",
   "metadata": {},
   "source": [
    "First we just prepare a layout using networkx."
   ]
  },
  {
   "cell_type": "code",
   "execution_count": 3,
   "metadata": {},
   "outputs": [
    {
     "data": {
      "image/png": "[encoded data removed]",
      "text/plain": [
       "<Figure size 432x288 with 1 Axes>"
      ]
     },
     "metadata": {},
     "output_type": "display_data"
    }
   ],
   "source": [
    "pos_list = nx.spring_layout(test_graph);\n",
    "nx.draw_networkx(test_graph,pos=pos_list)\n",
    "plt.show();"
   ]
  },
  {
   "cell_type": "markdown",
   "metadata": {},
   "source": [
    "OK, now we can define a function that implements the iterative calculation of PageRank shown in the slides. The results at each iteration are stored in a dictionary, and this is returned by the function."
   ]
  },
  {
   "cell_type": "code",
   "execution_count": 4,
   "metadata": {},
   "outputs": [],
   "source": [
    "def Page_rank_iterate(directed_net,damping_factor,max_num_steps):\n",
    "    _pr_vals = {_node : 1.0/directed_net.number_of_nodes() for _node in directed_net.nodes()};\n",
    "    _pr_dict = {};\n",
    "    _pr_dict.clear();\n",
    "    _pr_dict[int(0)] = _pr_vals;\n",
    "    for _step in range(1,max_num_steps+1):\n",
    "        _new_pr_vals = {};\n",
    "        _new_pr_vals.clear();\n",
    "        for _node in directed_net.nodes:            \n",
    "            _sum = sum([_pr_vals[_in_link[0]]/directed_net.out_degree(_in_link[0]) for _in_link in directed_net.in_edges(_node)]);\n",
    "            _new_pr_vals[_node] = _sum*(1.0-damping_factor)+damping_factor/directed_net.number_of_nodes();\n",
    "        _sum_new_pr = sum(_new_pr_vals.values());\n",
    "        for _node in _new_pr_vals:\n",
    "            _new_pr_vals[_node] = _new_pr_vals[_node]/_sum_new_pr;\n",
    "        _pr_dict[_step] = _new_pr_vals;\n",
    "        _pr_vals = dict(_new_pr_vals);\n",
    "    return _pr_dict;"
   ]
  },
  {
   "cell_type": "code",
   "execution_count": 5,
   "metadata": {},
   "outputs": [],
   "source": [
    "test_pr_dict = Page_rank_iterate(test_graph,0.15,30);"
   ]
  },
  {
   "cell_type": "markdown",
   "metadata": {},
   "source": [
    "Let's print out the results for the first two and the last two steps."
   ]
  },
  {
   "cell_type": "code",
   "execution_count": 6,
   "metadata": {},
   "outputs": [
    {
     "name": "stdout",
     "output_type": "stream",
     "text": [
      "{0: 0.16666666666666666, 1: 0.16666666666666666, 2: 0.16666666666666666, 3: 0.16666666666666666, 4: 0.16666666666666666, 5: 0.16666666666666666}\n",
      "{0: 0.16666666666666666, 1: 0.2375, 2: 0.07222222222222222, 3: 0.30833333333333335, 4: 0.14305555555555555, 5: 0.07222222222222222}\n",
      "{0: 0.11411416821122143, 1: 0.28179399974385383, 2: 0.10482670874176878, 3: 0.2450546217140078, 4: 0.1493837928473795, 5: 0.10482670874176878}\n",
      "{0: 0.11410270243050345, 1: 0.28179494994667575, 2: 0.10484163326075857, 3: 0.24502609662529337, 4: 0.14939298447601032, 5: 0.10484163326075857}\n"
     ]
    }
   ],
   "source": [
    "print(test_pr_dict[0]);\n",
    "print(test_pr_dict[1]);\n",
    "print(test_pr_dict[28]);\n",
    "print(test_pr_dict[29]);"
   ]
  },
  {
   "cell_type": "markdown",
   "metadata": {},
   "source": [
    "Now let's define a function that can color the nodes in the layout and also replace the node labels with the current value of the PageRank at a given step in the iteration. By using this function we can create an interactive 'widget' showing the evolution of the calculated PageRank during the iterations."
   ]
  },
  {
   "cell_type": "code",
   "execution_count": 7,
   "metadata": {},
   "outputs": [],
   "source": [
    "def Plot_nets(graph,pos_vec,color_dict,label_dict,step):\n",
    "    _color_list = color_dict[step];\n",
    "    _labels = label_dict[step];\n",
    "    nx.draw_networkx(graph,pos=pos_vec,labels=_labels,node_color=_color_list);\n",
    "    plt.show();"
   ]
  },
  {
   "cell_type": "markdown",
   "metadata": {},
   "source": [
    "We just prepare the node labels and node colors based on the results obtained before:"
   ]
  },
  {
   "cell_type": "code",
   "execution_count": 8,
   "metadata": {},
   "outputs": [],
   "source": [
    "max_pr = max( [max(test_pr_dict[step].values()) for step in test_pr_dict]);\n",
    "pr_color_dict,pr_label_dict = {},{};\n",
    "pr_color_dict.clear();\n",
    "pr_label_dict.clear();\n",
    "for step in test_pr_dict:\n",
    "    pr_color_dict[step] = [plt.cm.coolwarm(test_pr_dict[step][node]/max_pr) for node in test_pr_dict[step]];\n",
    "    pr_label_dict[step] = {node: '%.3f' % test_pr_dict[step][node] for node in test_pr_dict[step]};"
   ]
  },
  {
   "cell_type": "markdown",
   "metadata": {},
   "source": [
    "And finally, the interactive plot with a slider:"
   ]
  },
  {
   "cell_type": "code",
   "execution_count": 9,
   "metadata": {},
   "outputs": [
    {
     "data": {
      "application/vnd.jupyter.widget-view+json": {
       "model_id": "c2e2077363c24d139eed589f54e84fd2",
       "version_major": 2,
       "version_minor": 0
      },
      "text/plain": [
       "interactive(children=(IntSlider(value=0, description='step', max=30), Output()), _dom_classes=('widget-interac…"
      ]
     },
     "metadata": {},
     "output_type": "display_data"
    },
    {
     "data": {
      "text/plain": [
       "<function __main__.Plot_nets(graph, pos_vec, color_dict, label_dict, step)>"
      ]
     },
     "execution_count": 9,
     "metadata": {},
     "output_type": "execute_result"
    }
   ],
   "source": [
    "interact(Plot_nets,graph = fixed(test_graph), pos_vec=fixed(pos_list),color_dict=fixed(pr_color_dict),\n",
    "        label_dict=fixed(pr_label_dict),step = IntSlider(min = 0, max = len(pr_color_dict)-1, step = 1, value =0,\n",
    "                                            description = \"step\"))"
   ]
  },
  {
   "cell_type": "markdown",
   "metadata": {},
   "source": [
    "Let's compare the results given by the built in Page Rank calculator of networkx. (Note that the damping factor in the slides and in our functions above is corresponding to one minus alpha in the networkx Page Rank function)."
   ]
  },
  {
   "cell_type": "code",
   "execution_count": 10,
   "metadata": {},
   "outputs": [
    {
     "name": "stdout",
     "output_type": "stream",
     "text": [
      "0  : nx. page rank: 0.11411210182360779 , iter. page rank: 0.11411538827164479\n",
      "1  : nx. page rank: 0.281781072128117 , iter. page rank: 0.28176583066446337\n",
      "2  : nx. page rank: 0.10483723028332995 , iter. page rank: 0.10484190248489147\n",
      "3  : nx. page rank: 0.24503908428648125 , iter. page rank: 0.24503537947339513\n",
      "4  : nx. page rank: 0.14939328119513384 , iter. page rank: 0.1493995966207139\n",
      "5  : nx. page rank: 0.10483723028332995 , iter. page rank: 0.10484190248489147\n"
     ]
    }
   ],
   "source": [
    "pr_nx = nx.pagerank(test_graph,alpha=0.85);\n",
    "for node in pr_nx:\n",
    "    print(node,' : nx. page rank:',pr_nx[node],', iter. page rank:',test_pr_dict[len(test_pr_dict)-1][node]);"
   ]
  },
  {
   "cell_type": "code",
   "execution_count": null,
   "metadata": {},
   "outputs": [],
   "source": []
  }
 ],
 "metadata": {
  "kernelspec": {
   "display_name": "Python 3",
   "language": "python",
   "name": "python3"
  },
  "language_info": {
   "codemirror_mode": {
    "name": "ipython",
    "version": 3
   },
   "file_extension": ".py",
   "mimetype": "text/x-python",
   "name": "python",
   "nbconvert_exporter": "python",
   "pygments_lexer": "ipython3",
   "version": "3.5.2"
  }
 },
 "nbformat": 4,
 "nbformat_minor": 2
}
