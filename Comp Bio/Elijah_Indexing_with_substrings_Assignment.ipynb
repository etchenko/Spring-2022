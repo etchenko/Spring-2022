{
  "nbformat": 4,
  "nbformat_minor": 0,
  "metadata": {
    "colab": {
      "name": "Elijah_Indexing_with_substrings_Assignment.ipynb",
      "provenance": [],
      "collapsed_sections": []
    },
    "kernelspec": {
      "name": "python2",
      "display_name": "Python 2"
    }
  },
  "cells": [
    {
      "cell_type": "markdown",
      "metadata": {
        "id": "b21CAACn20VF"
      },
      "source": [
        "# Indexing E. Coli\n",
        "\n",
        "If we have a reference sequence, for example E. Coli strain K12 MG1655, which is about 4.5 MB long, then using Smith-Waterman to align reads to this reference becomes quite expensive. \n",
        "\n",
        "We need to find a way to speed up finding areas of the reference to which our reads likely align to, making the read alignment problem tractable. \n",
        "\n",
        "One method of searching for substrings inside of a large text **T** is to index the position of all substrings of **T**, then break up our query sequence into identically sized substrings, look them up in the index and find likely hits. \n",
        "\n",
        "To test this method, execute the following code block to download the reference sequence of E. Coli to this notebook, and load the sequence into the enviromnent\n"
      ]
    },
    {
      "cell_type": "code",
      "metadata": {
        "id": "35IRfKBDktcn",
        "colab": {
          "base_uri": "https://localhost:8080/"
        },
        "outputId": "271af912-7b36-4258-e011-f73ad103ea38"
      },
      "source": [
        "!wget http://imolarpg.dyndns.org/stuff/ait/Reference_genome_ecoli_k12_mg1655_GCF_000005845.2_ASM584v2_genomic.fasta\n",
        "  \n",
        "%matplotlib inline\n",
        "import numpy as np\n",
        "import matplotlib.pyplot as plt\n",
        "import sys\n",
        "plt.style.use('seaborn-white')"
      ],
      "execution_count": 2,
      "outputs": [
        {
          "output_type": "stream",
          "name": "stdout",
          "text": [
            "--2022-03-08 19:56:02--  http://imolarpg.dyndns.org/stuff/ait/Reference_genome_ecoli_k12_mg1655_GCF_000005845.2_ASM584v2_genomic.fasta\n",
            "Resolving imolarpg.dyndns.org (imolarpg.dyndns.org)... 85.238.67.23\n",
            "Connecting to imolarpg.dyndns.org (imolarpg.dyndns.org)|85.238.67.23|:80... connected.\n",
            "HTTP request sent, awaiting response... 200 OK\n",
            "Length: 4699745 (4.5M)\n",
            "Saving to: ‘Reference_genome_ecoli_k12_mg1655_GCF_000005845.2_ASM584v2_genomic.fasta’\n",
            "\n",
            "Reference_genome_ec 100%[===================>]   4.48M  5.17MB/s    in 0.9s    \n",
            "\n",
            "2022-03-08 19:56:03 (5.17 MB/s) - ‘Reference_genome_ecoli_k12_mg1655_GCF_000005845.2_ASM584v2_genomic.fasta’ saved [4699745/4699745]\n",
            "\n"
          ]
        }
      ]
    },
    {
      "cell_type": "markdown",
      "metadata": {
        "id": "XVpzjwrx32QM"
      },
      "source": [
        "The following function loads a reference sequence, and returns the name and the sequence from the file you just downloaded into the environment:"
      ]
    },
    {
      "cell_type": "code",
      "metadata": {
        "id": "qHDwB1Hclrhd",
        "colab": {
          "base_uri": "https://localhost:8080/"
        },
        "outputId": "d9dde69e-8771-46f2-845c-6ed79b3e3e1a"
      },
      "source": [
        "# Fasta files look like this:\n",
        "#>NC_000913.3 Escherichia coli str. K-12 substr. MG1655, complete genome\n",
        "#AGCTTTTCATTCTGACTGCAACGGGCAATATGTCTCTGTGTGGATTAAAAAAAGAGTGTCTGATAGCAGCTTCTGAACTG\n",
        "#GTTACCTGCCGTGAGTAAATTAAAATTTTATTGACTTAGGTCACTAAATACTTTAACCAATATAGGCATAGCGCACAGAC\n",
        "#AGATAAAAATTACAGAGTACACAACATCCATGAAACGCATTAGCACCACCATTACCACCACCATCACCATTACCACAGGT\n",
        "#AACGGTGCGGGCTGACGCGTACAGGAAACACAGAAAAAAGCCCGCACCTGACAGTGCGGGCTTTTTTTTTCGACCAAAGG\n",
        "#TAACGAGGTAACAACCATGCGAGTGTTGAAGTTCGGCGGTACATCAGTGGCAAATGCAGAACGTTTTCTGCGTGTTGCCG\n",
        "#...\n",
        "def loadFasta(filename):\n",
        "  lines = list(map(str.strip,open(filename).readlines()))\n",
        "  name = lines[0]\n",
        "  sequence = ''.join(lines[1:])\n",
        "  print(f'Loaded reference for: {name} length = {len(sequence)} from file {filename}')\n",
        "  return sequence, name\n",
        "\n",
        "sequence,name = loadFasta('Reference_genome_ecoli_k12_mg1655_GCF_000005845.2_ASM584v2_genomic.fasta')\n",
        "\n"
      ],
      "execution_count": 3,
      "outputs": [
        {
          "output_type": "stream",
          "name": "stdout",
          "text": [
            "Loaded reference for: >NC_000913.3 Escherichia coli str. K-12 substr. MG1655, complete genome length = 4641652 from file Reference_genome_ecoli_k12_mg1655_GCF_000005845.2_ASM584v2_genomic.fasta\n"
          ]
        }
      ]
    },
    {
      "cell_type": "markdown",
      "metadata": {
        "id": "asjw6I4o4k0S"
      },
      "source": [
        "Your task is to break up the reference sequence into kmers (substrings of length k) at different sizes, and create a hashmap (python dictionary) of them, where the keys are the kmers, and the value are a list of indices into the reference sequence. Your function takes the sequence, the kmer size, and a stride parameter. The stride parameter means you should only index every n'th kmer.\n",
        "\n",
        "I have included a plotKmerHistogram function to make it easy to see how many times the kmers are present in the sequence. "
      ]
    },
    {
      "cell_type": "code",
      "metadata": {
        "id": "TkL-yzvLmlnZ",
        "colab": {
          "base_uri": "https://localhost:8080/",
          "height": 315
        },
        "outputId": "91b4c055-8ab3-4bb2-9fc9-6a28ddfc2ac5"
      },
      "source": [
        "\n",
        "def plotKmerHistogram(indexdb, log = True): \n",
        "  # Creates a histogram of the number of times every kmer is observed.\n",
        "  # X axis is the the number of times a specific kmer is observed\n",
        "  # Y axis is the (log) count of the number of kmers observed X times\n",
        "  \n",
        "  #create list of counts for each kmer\n",
        "  counts = list(map(len,indexdb.values()))\n",
        "  plt.hist(counts, bins=max(counts), density=False,log = log,\n",
        "         histtype='stepfilled', color='blue',\n",
        "         edgecolor='none');\n",
        "  print(f'The mean of the number of hits for each kmer is: {np.mean(counts)}')\n",
        "\n",
        "\n",
        "def indexKmers(sequence,K = 25,stride = 1, log = True): # K is the size of the kmer, and we take each stride (n'th)\n",
        "  indexdb = {} \n",
        "  for i in range(0, len(sequence) - K, stride):\n",
        "    sub = sequence[i:i+K]\n",
        "    if sub in indexdb:\n",
        "      indexdb[sub] += [i]\n",
        "    else:\n",
        "      indexdb[sub] = [i] \n",
        "\n",
        "  # a dictionary of {Kmer: [occurrences list]}, \n",
        "  #e.g. for the string 'CATCAT', a K of 3 and a stride of 1, the indexdb should be: {'CAT':[0,3],'ATC':[1],'TCA':[2]}\n",
        "  \n",
        "  #TODO: break up sequence into K sized substrings, at every stride'th position and append their index to the corresponding kmer\n",
        "\n",
        "      \n",
        "  if log:  \n",
        "    print(\"For a K of %d, and a stride of %d, the number of unique kmers in the input sequence length %d is %d\"%(\n",
        "      K,stride, len(sequence), len(indexdb)))\n",
        "    print('The size of the of the index is', sys.getsizeof(indexdb)/float(1000000.0),'MB')\n",
        "    plotKmerHistogram(indexdb,log=True)\n",
        "  return indexdb\n",
        "\n",
        "ecoli_index = indexKmers(sequence,K = 20,stride = 1)\n"
      ],
      "execution_count": 4,
      "outputs": [
        {
          "output_type": "stream",
          "name": "stdout",
          "text": [
            "For a K of 20, and a stride of 1, the number of unique kmers in the input sequence length 4641652 is 4561264\n",
            "The size of the of the index is 167.772272 MB\n",
            "The mean of the number of hits for each kmer is: 1.0176196773525934\n"
          ]
        },
        {
          "output_type": "display_data",
          "data": {
            "image/png": "[encoded data removed]",
            "text/plain": [
              "<Figure size 432x288 with 1 Axes>"
            ]
          },
          "metadata": {
            "needs_background": "light"
          }
        }
      ]
    },
    {
      "cell_type": "markdown",
      "metadata": {
        "id": "Q3S_rNX78XUb"
      },
      "source": [
        "**What kind of effect does changing K have on the number of times we observe a Kmer in the E. Coli reference? What is the smallest K that still makes most kmers unique?**\n",
        "\n"
      ]
    },
    {
      "cell_type": "code",
      "metadata": {
        "id": "SHh4RQ5m8rfT",
        "colab": {
          "base_uri": "https://localhost:8080/"
        },
        "outputId": "69255a71-95e9-4604-82f1-11bb0640c993"
      },
      "source": [
        "#TODO your answer goes here in code form\n",
        "for i in range(19, 5, -1):\n",
        "  index = indexKmers(sequence, K=i, stride = 1, log = False)\n",
        "  print(f'K = {i}, unique = {len(index)}, mean hits = {np.mean(list(map(len,index.values())))}')\n",
        "\n",
        "print('\\nDecreasing K will also increase the number of times that we will observe a given Kmer, however it decreases the amount of unique Kmers present in the sequence.')\n",
        "print('The smallest K that still makes most kmers unique is 12.')\n"
      ],
      "execution_count": 5,
      "outputs": [
        {
          "output_type": "stream",
          "name": "stdout",
          "text": [
            "K = 19, unique = 4559744, mean hits = 1.0179591222665132\n",
            "K = 18, unique = 4557625, mean hits = 1.0184326266421655\n",
            "K = 17, unique = 4553732, mean hits = 1.0193035075406283\n",
            "K = 16, unique = 4544542, mean hits = 1.0213649692312228\n",
            "K = 15, unique = 4517651, mean hits = 1.0274447937656097\n",
            "K = 14, unique = 4432223, mean hits = 1.0472482995553247\n",
            "K = 13, unique = 4170361, mean hits = 1.1130065238956532\n",
            "K = 12, unique = 3478959, mean hits = 1.33420370863813\n",
            "K = 11, unique = 2196861, mean hits = 2.112851473079089\n",
            "K = 10, unique = 898115, mean hits = 5.168204517238884\n",
            "K = 9, unique = 256527, mean hits = 18.09416942466095\n",
            "K = 8, unique = 65360, mean hits = 71.01658506731947\n",
            "K = 7, unique = 16383, mean hits = 283.32082036257094\n",
            "K = 6, unique = 4096, mean hits = 1133.21435546875\n",
            "\n",
            "Decreasing K will also increase the number of times that we will observe a given Kmer, however it decreases the amount of unique Kmers present in the sequence.\n",
            "The smallest K that still makes most kmers unique is 12.\n"
          ]
        }
      ]
    },
    {
      "cell_type": "markdown",
      "metadata": {
        "id": "sjxUjaUy84g0"
      },
      "source": [
        "**What kind of effect does changing the stride parameter have on the size of the index?**\n",
        "\n",
        "*Increasing the size of stride would decrease the size of the index, since we see less of the unique kmers*"
      ]
    },
    {
      "cell_type": "markdown",
      "metadata": {
        "id": "XO2vs7Dn9LnN"
      },
      "source": [
        "# Querying the index\n",
        "\n",
        "**Implement a function that given an index and a query string, returns the sorted position of each kmer hit!**"
      ]
    },
    {
      "cell_type": "code",
      "metadata": {
        "id": "CD8lV8XzpiUT",
        "colab": {
          "base_uri": "https://localhost:8080/"
        },
        "outputId": "df9c2683-012f-403f-f025-7ef3cdfa3d8b"
      },
      "source": [
        "#Where inside of the genome of E. Coli could the perfectRead come from?\n",
        "perfectRead = 'GTATCCCGGATTCAAAGGTCGCAAATTATAACACAGCCGCGCAGTTTGAGGTAAACCTATACGCTTTATTCACATCCAATGCCTGATATACTCGTTTGTCTTGCCAATTACGGAGTAGAAGTGCCAATGAATGCCGAAAAATCGCCGGTAAACCATAACG'\n",
        "import time\n",
        "\n",
        "def queryIndex(indexdb,query,stride = 1):\n",
        "  querytime = time.time()\n",
        "  K = len(next(iter(indexdb))) #Identify the Kmer size in the index database\n",
        "  hits = []\n",
        "  \n",
        "  #TODO: take every stride'th K sized substring of the query, and collect all of the hits in a list.\n",
        "  #return a list of sorted hits\n",
        "  for i in range(0, len(query) - K, stride):\n",
        "    sub = query[i:i+K]\n",
        "    if sub in indexdb:\n",
        "      hits += indexdb[sub]\n",
        "\n",
        "\n",
        " \n",
        "  print('Query of length %d with an indexSize of %d has %d hits in %.3f milliseconds'%(\n",
        "      len(query),K,len(hits),time.time()-querytime))\n",
        "  return sorted(hits)\n",
        "\n",
        "\n",
        "hitsForPerfectRead = queryIndex(ecoli_index,perfectRead)\n",
        "print(hitsForPerfectRead)\n",
        "\n",
        "# Does the reference and the largest consecutive hit match?\n",
        "print('The reference and the largest consecutive hit match, since the query has 140 hits with index size of 20, meaning that there is a hit with 160 characters, which is the length of the query.')\n",
        "\n",
        "\n",
        "\n"
      ],
      "execution_count": 6,
      "outputs": [
        {
          "output_type": "stream",
          "name": "stdout",
          "text": [
            "Query of length 160 with an indexSize of 20 has 140 hits in 0.000 milliseconds\n",
            "[2339440, 2339441, 2339442, 2339443, 2339444, 2339445, 2339446, 2339447, 2339448, 2339449, 2339450, 2339451, 2339452, 2339453, 2339454, 2339455, 2339456, 2339457, 2339458, 2339459, 2339460, 2339461, 2339462, 2339463, 2339464, 2339465, 2339466, 2339467, 2339468, 2339469, 2339470, 2339471, 2339472, 2339473, 2339474, 2339475, 2339476, 2339477, 2339478, 2339479, 2339480, 2339481, 2339482, 2339483, 2339484, 2339485, 2339486, 2339487, 2339488, 2339489, 2339490, 2339491, 2339492, 2339493, 2339494, 2339495, 2339496, 2339497, 2339498, 2339499, 2339500, 2339501, 2339502, 2339503, 2339504, 2339505, 2339506, 2339507, 2339508, 2339509, 2339510, 2339511, 2339512, 2339513, 2339514, 2339515, 2339516, 2339517, 2339518, 2339519, 2339520, 2339521, 2339522, 2339523, 2339524, 2339525, 2339526, 2339527, 2339528, 2339529, 2339530, 2339531, 2339532, 2339533, 2339534, 2339535, 2339536, 2339537, 2339538, 2339539, 2339540, 2339541, 2339542, 2339543, 2339544, 2339545, 2339546, 2339547, 2339548, 2339549, 2339550, 2339551, 2339552, 2339553, 2339554, 2339555, 2339556, 2339557, 2339558, 2339559, 2339560, 2339561, 2339562, 2339563, 2339564, 2339565, 2339566, 2339567, 2339568, 2339569, 2339570, 2339571, 2339572, 2339573, 2339574, 2339575, 2339576, 2339577, 2339578, 2339579]\n",
            "The reference and the largest consecutive hit match, since the query has 140 hits with index size of 20, meaning that there is a hit with 160 characters, which is the length of the query.\n"
          ]
        }
      ]
    },
    {
      "cell_type": "markdown",
      "metadata": {
        "id": "h-MaCUXiphdr"
      },
      "source": [
        "# Filtering the hits to find candidate regions\n",
        "\n",
        "Now that we have found where the kmers of our query can be found in the reference, how do we narrow down the search area to find the best place to start performing the Smith Waterman algorithm?\n",
        "\n",
        "**Implement a function, that takes the sorted list of hits returned by your queryIndex function, and outputs an ordered list of candidate regions that read could come from. Each candidate reqion is a list of hit positions, and the starts and ends of the list are their minimum and maximum (first and last) values.**\n",
        "\n",
        "*Hint: If this seems difficult, try iterating through the list of hits, and whenever the next hit is 'distant' from the current one, start a new candidate.* \n"
      ]
    },
    {
      "cell_type": "code",
      "metadata": {
        "id": "H9mOleEEA2s3",
        "colab": {
          "base_uri": "https://localhost:8080/"
        },
        "outputId": "b4a07b8b-5feb-4902-9cac-4192faf0f0ff"
      },
      "source": [
        "\n",
        "def ConsecutiveHits(hits,gapSize = 50):\n",
        "  #the first hit starts its own region.\n",
        "  hitsList = [[hits[0]]]\n",
        "\n",
        "  #TODO: implement finding regions of hits.\n",
        "  for i in hits[1:]:\n",
        "    if i > hitsList[-1][-1] + 2:\n",
        "      hitsList.append([i])\n",
        "    else:\n",
        "      hitsList[-1].append(i)\n",
        "  \n",
        "  return sorted(hitsList,key = lambda x : len(x), reverse = True)\n",
        "\n",
        "conseqhits =  ConsecutiveHits(hitsForPerfectRead)\n",
        "print (';'.join(['%d (%d-%d)'%(len(hit),min(hit),max(hit)) for hit in conseqhits]))\n",
        "\n",
        "print (perfectRead)\n",
        "besthit = conseqhits[0]\n",
        "print (sequence[min(besthit):max(besthit)])\n"
      ],
      "execution_count": 8,
      "outputs": [
        {
          "output_type": "stream",
          "name": "stdout",
          "text": [
            "140 (2339440-2339579)\n",
            "GTATCCCGGATTCAAAGGTCGCAAATTATAACACAGCCGCGCAGTTTGAGGTAAACCTATACGCTTTATTCACATCCAATGCCTGATATACTCGTTTGTCTTGCCAATTACGGAGTAGAAGTGCCAATGAATGCCGAAAAATCGCCGGTAAACCATAACG\n",
            "GTATCCCGGATTCAAAGGTCGCAAATTATAACACAGCCGCGCAGTTTGAGGTAAACCTATACGCTTTATTCACATCCAATGCCTGATATACTCGTTTGTCTTGCCAATTACGGAGTAGAAGTGCCAATGAATGCCGAAA\n"
          ]
        }
      ]
    },
    {
      "cell_type": "markdown",
      "metadata": {
        "id": "n2FTDQNFO-Aa"
      },
      "source": [
        "Lets do the same for a repeated region of E. Coli:"
      ]
    },
    {
      "cell_type": "code",
      "metadata": {
        "id": "jUe6P7O1qxgA",
        "colab": {
          "base_uri": "https://localhost:8080/"
        },
        "outputId": "62152454-f205-4a11-a803-8901d7da237a"
      },
      "source": [
        "ecoli_repeat = 'GGCTGACCACAATACAGAACGACAGAACCCGCATCCAGACGATTTATCAGCCGGGGAGCTTCACGCCACTCATCAGAGTTGAAACCGCCACCGGTGAGCTGGCGAAAACGCAGCGCCGCAGCCTGGCGGATGCGCTTCAGCAGTCCGGCGGCGAAGACGGTGGCAGTGTGGTGTTCCCGCCGGTGCTGGTGCAGATGCTC'\n",
        "\n",
        "\n",
        "yeer_hits = queryIndex(ecoli_index,ecoli_repeat)\n",
        "conseq_yeer_hits = ConsecutiveHits(yeer_hits)\n",
        "\n",
        "print(';'.join(['%d (%d-%d)'%(len(hit),min(hit),max(hit)) for hit in conseq_yeer_hits]))\n",
        "\n",
        "besthit = conseq_yeer_hits[0]\n",
        "print(ecoli_repeat)\n",
        "print(sequence[min(besthit):max(besthit)])"
      ],
      "execution_count": 10,
      "outputs": [
        {
          "output_type": "stream",
          "name": "stdout",
          "text": [
            "Query of length 200 with an indexSize of 20 has 522 hits in 0.000 milliseconds\n",
            "180 (3765279-3765458);46 (732690-732735);46 (734561-734606);46 (734684-734729);46 (3622422-3622467);35 (732756-732790);35 (734627-734661);31 (732828-732858);29 (3622316-3622344);28 (3622374-3622401)\n",
            "GGCTGACCACAATACAGAACGACAGAACCCGCATCCAGACGATTTATCAGCCGGGGAGCTTCACGCCACTCATCAGAGTTGAAACCGCCACCGGTGAGCTGGCGAAAACGCAGCGCCGCAGCCTGGCGGATGCGCTTCAGCAGTCCGGCGGCGAAGACGGTGGCAGTGTGGTGTTCCCGCCGGTGCTGGTGCAGATGCTC\n",
            "GGCTGACCACAATACAGAACGACAGAACCCGCATCCAGACGATTTATCAGCCGGGGAGCTTCACGCCACTCATCAGAGTTGAAACCGCCACCGGTGAGCTGGCGAAAACGCAGCGCCGCAGCCTGGCGGATGCGCTTCAGCAGTCCGGCGGCGAAGACGGTGGCAGTGTGGTGTTCCCG\n"
          ]
        }
      ]
    },
    {
      "cell_type": "markdown",
      "metadata": {
        "id": "gKcNrAqyOr2t"
      },
      "source": [
        "**How many significant hits did you find for this repeated segment?**\n"
      ]
    },
    {
      "cell_type": "code",
      "metadata": {
        "id": "iJ_jg0YQO0cJ",
        "colab": {
          "base_uri": "https://localhost:8080/"
        },
        "outputId": "658c250a-5377-443c-e971-eaf8af5c75c2"
      },
      "source": [
        "print('I found 10 significant hits')"
      ],
      "execution_count": 11,
      "outputs": [
        {
          "output_type": "stream",
          "name": "stdout",
          "text": [
            "I found 10 significant hits\n"
          ]
        }
      ]
    },
    {
      "cell_type": "markdown",
      "metadata": {
        "id": "aUGuFE1KPWAe"
      },
      "source": [
        "**How much time did you spend on this homework?** There are no wrong answers, I'm just looking for feedback.\n",
        "\n",
        "Please remember to post a shareable link of your work to the Moodle :)\n",
        "\n",
        "\n",
        "\n"
      ]
    },
    {
      "cell_type": "code",
      "source": [
        "print('I spent about 1 hour on this homework')"
      ],
      "metadata": {
        "colab": {
          "base_uri": "https://localhost:8080/"
        },
        "id": "WWRY7UiwHjog",
        "outputId": "39cf82d4-08d1-4617-e640-4b76c3dbafa5"
      },
      "execution_count": 12,
      "outputs": [
        {
          "output_type": "stream",
          "name": "stdout",
          "text": [
            "I spent about 1 hour on this homework\n"
          ]
        }
      ]
    }
  ]
}