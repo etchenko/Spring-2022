{
 "cells": [
  {
   "cell_type": "code",
   "execution_count": 1,
   "metadata": {},
   "outputs": [],
   "source": [
    "import networkx\n",
    "\n",
    "def ring_network(N, Q):\n",
    "    \"\"\"\n",
    "    Create a network with first and second neighbors connected.\n",
    "    :param N: The number of nodes in the network (int)\n",
    "    :return: The ring network (networkx Graph() object)\n",
    "    \"\"\"\n",
    "    \n",
    "    # Instantiate the graph\n",
    "    graph = networkx.Graph()\n",
    "    # Add the edges to the graph\n",
    "    for i in range(0, N):\n",
    "        # Add first neighbor edges\n",
    "        for j in range(0, Q):\n",
    "            graph.add_edge(i,(i+1+j)%N)\n",
    "    # Return the graph for later use\n",
    "    return graph"
   ]
  },
  {
   "cell_type": "code",
   "execution_count": 15,
   "metadata": {},
   "outputs": [
    {
     "name": "stdout",
     "output_type": "stream",
     "text": [
      "N = 20, q = 2, formula = 2.5, found = 2.8947368421052633\n",
      "N = 20, q = 5, formula = 1.0, found = 1.4736842105263157\n",
      "N = 20, q = 8, formula = 0.625, found = 1.1578947368421053\n",
      "N = 30, q = 2, formula = 3.75, found = 4.137931034482759\n",
      "N = 30, q = 5, formula = 1.5, found = 1.9655172413793103\n",
      "N = 30, q = 8, formula = 0.9375, found = 1.4482758620689655\n",
      "N = 40, q = 2, formula = 5.0, found = 5.384615384615385\n",
      "N = 40, q = 5, formula = 2.0, found = 2.4615384615384617\n",
      "N = 40, q = 8, formula = 1.25, found = 1.7692307692307692\n",
      "N = 50, q = 2, formula = 6.25, found = 6.63265306122449\n",
      "N = 50, q = 5, formula = 2.5, found = 2.9591836734693877\n",
      "N = 50, q = 8, formula = 1.5625, found = 2.0408163265306123\n",
      "N = 60, q = 2, formula = 7.5, found = 7.88135593220339\n",
      "N = 60, q = 5, formula = 3.0, found = 3.457627118644068\n",
      "N = 60, q = 8, formula = 1.875, found = 2.3728813559322033\n",
      "N = 70, q = 2, formula = 8.75, found = 9.130434782608695\n",
      "N = 70, q = 5, formula = 3.5, found = 3.9565217391304346\n",
      "N = 70, q = 8, formula = 2.1875, found = 2.681159420289855\n",
      "N = 80, q = 2, formula = 10.0, found = 10.379746835443038\n",
      "N = 80, q = 5, formula = 4.0, found = 4.455696202531645\n",
      "N = 80, q = 8, formula = 2.5, found = 2.9746835443037973\n",
      "N = 90, q = 2, formula = 11.25, found = 11.629213483146067\n",
      "N = 90, q = 5, formula = 4.5, found = 4.955056179775281\n",
      "N = 90, q = 8, formula = 2.8125, found = 3.303370786516854\n"
     ]
    }
   ],
   "source": [
    "for i in range(20, 100, 10):\n",
    "    for j in range(2, 10, 3):\n",
    "        g = ring_network(i, j)\n",
    "        l = networkx.average_shortest_path_length(g)\n",
    "        av_d = i/(4*j)\n",
    "        print(f'N = {i}, q = {j}, formula = {av_d}, found = {l}')"
   ]
  },
  {
   "cell_type": "code",
   "execution_count": 26,
   "metadata": {},
   "outputs": [
    {
     "name": "stdout",
     "output_type": "stream",
     "text": [
      "2.9797979797979797 2.5\n"
     ]
    }
   ],
   "source": [
    "g = ring_network(100, 10)\n",
    "l = networkx.average_shortest_path_length(g)\n",
    "av_d = 100/(4*10)\n",
    "print(l,av_d)"
   ]
  }
 ],
 "metadata": {
  "interpreter": {
   "hash": "b0fa6594d8f4cbf19f97940f81e996739fb7646882a419484c72d19e05852a7e"
  },
  "kernelspec": {
   "display_name": "Python 3.9.9 64-bit",
   "language": "python",
   "name": "python3"
  },
  "language_info": {
   "codemirror_mode": {
    "name": "ipython",
    "version": 3
   },
   "file_extension": ".py",
   "mimetype": "text/x-python",
   "name": "python",
   "nbconvert_exporter": "python",
   "pygments_lexer": "ipython3",
   "version": "3.9.9"
  },
  "orig_nbformat": 4
 },
 "nbformat": 4,
 "nbformat_minor": 2
}
